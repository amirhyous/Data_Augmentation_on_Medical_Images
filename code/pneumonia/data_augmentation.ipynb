{
 "cells": [
  {
   "cell_type": "markdown",
   "metadata": {
    "id": "iImFr8ZYh3v7"
   },
   "source": [
    "# Data Augmentation"
   ]
  },
  {
   "cell_type": "markdown",
   "metadata": {
    "id": "65gVGFqNwhdD"
   },
   "source": [
    "### Image Resizing:"
   ]
  },
  {
   "cell_type": "markdown",
   "metadata": {
    "id": "5TnOm0ryv2NR"
   },
   "source": [
    "#### Function for Image Resizing:"
   ]
  },
  {
   "cell_type": "code",
   "execution_count": 5,
   "metadata": {
    "id": "kULU84jUsbHU"
   },
   "outputs": [],
   "source": [
    "from PIL import Image\n",
    "import os\n",
    "\n",
    "def resize_images(directory, new_width, new_height):\n",
    "    resized_images = []\n",
    "    for file_name in os.listdir(directory):\n",
    "        try:\n",
    "            with Image.open(os.path.join(directory, file_name)) as img:\n",
    "                resized_img = img.resize((new_width, new_height))\n",
    "                resized_images.append(resized_img)\n",
    "        except Exception as e:\n",
    "            print(f\"Error processing {file_name}: {e}\")\n",
    "\n",
    "    return resized_images"
   ]
  },
  {
   "cell_type": "code",
   "execution_count": null,
   "metadata": {
    "id": "YYmFL5-Ggylz"
   },
   "outputs": [],
   "source": [
    "train_path = r'..\\data\\train\\PNEUMONIA'\n",
    "\n",
    "pictures_width = 416\n",
    "pictures_height = 416\n",
    "\n",
    "resized_images = resize_images(train_path, pictures_width, pictures_height)"
   ]
  },
  {
   "cell_type": "markdown",
   "metadata": {
    "id": "OU2CoIugGQAv"
   },
   "source": [
    "### Save Resized Images:"
   ]
  },
  {
   "cell_type": "code",
   "execution_count": 7,
   "metadata": {
    "id": "rsKwxJOpGQpb"
   },
   "outputs": [],
   "source": [
    "def save_images_resize(images, save_path):\n",
    "    for i, img in enumerate(images):\n",
    "        file_name = f\"P_resized_{i}.jpg\"\n",
    "        img.save(os.path.join(save_path, file_name))"
   ]
  },
  {
   "cell_type": "code",
   "execution_count": 8,
   "metadata": {
    "id": "EAydP1S9Gi15"
   },
   "outputs": [],
   "source": [
    "resized_data_path = r'C:\\Users\\User\\Desktop\\amiryo\\datasets\\pneumonia\\data\\train_initial_resized\\PNEUMONIA'\n",
    "\n",
    "save_images_resize(resized_images, resized_data_path)"
   ]
  },
  {
   "cell_type": "markdown",
   "metadata": {
    "id": "9L_Fescy0AhX"
   },
   "source": [
    "### Apply Data Augmentation:"
   ]
  },
  {
   "cell_type": "code",
   "execution_count": 1,
   "metadata": {
    "id": "QFCbxRknHrTE"
   },
   "outputs": [],
   "source": [
    "import os\n",
    "import numpy as np\n",
    "from PIL import Image\n",
    "\n",
    "def save_images(img, file_name, directory, suffix):\n",
    "    base, ext = os.path.splitext(file_name)\n",
    "    new_file_name = f\"{base}{suffix}{ext}\"\n",
    "    img.save(os.path.join(directory, new_file_name))\n",
    "\n",
    "def apply_changes_to_images(data_directory, save_directory, jumps_in_picture):\n",
    "    file_names = os.listdir(data_directory)\n",
    "    for file_name in file_names:\n",
    "        #try:\n",
    "            with Image.open(os.path.join(data_directory, file_name)) as img:\n",
    "                img_array0 = np.array(img)\n",
    "                img_array1 = img_array0.copy()\n",
    "                img_array2 = img_array0.copy()\n",
    "                img_array3 = img_array0.copy()\n",
    "\n",
    "                if len(img_array0.shape) > 2:\n",
    "\n",
    "                  #Horizantal Lines:\n",
    "                  # for x in range(1, img_array1.shape[1], jumps_in_picture):\n",
    "\n",
    "                  #     #A Random color for each pixel:\n",
    "                  #     #img_array1[x, :, :] = np.random.randint(0, 256, img_array1[x, :, :].shape)\n",
    "\n",
    "                  #     #A Random color for each line:\n",
    "                  #     img_array1[x, :, :] = np.random.randint(0, 256)\n",
    "\n",
    "                  # modified_img = Image.fromarray(img_array1, mode=img.mode)\n",
    "                  # save_images(modified_img, file_name, save_directory, \"_h\")\n",
    "\n",
    "                  # #Horizantal and Vertical Lines:\n",
    "                  # # for x in range(1, img_array1.shape[1], jumps_in_picture):\n",
    "                  # #     img_array1[:, x, :] = np.random.randint(0, 256)\n",
    "\n",
    "                  # # modified_img = Image.fromarray(img_array1, mode=img.mode)\n",
    "                  # # save_images(modified_img, file_name, save_directory, \"_h_v\")\n",
    "\n",
    "                  # #Vertical Lines:\n",
    "                  # for x in range(1, img_array2.shape[1], jumps_in_picture):\n",
    "                  #     img_array2[:, x, :] = np.random.randint(0, 256)\n",
    "\n",
    "                  # modified_img = Image.fromarray(img_array2, mode=img.mode)\n",
    "                  # save_images(modified_img, file_name, save_directory, \"_v\")\n",
    "\n",
    "                  #Vertical Resize:\n",
    "                  new_height = img_array3.shape[0] - int(img_array3.shape[0]/jumps_in_picture) - 1\n",
    "                  img_v_r = np.zeros((new_height, img_array3.shape[1], img_array3.shape[2]), dtype=img_array3.dtype)\n",
    "                  counter = 0\n",
    "                  for i in range(img_array3.shape[0]):\n",
    "                      if i % jumps_in_picture != 0:\n",
    "                          img_v_r[counter, :, :] = img_array3[i, :, :]\n",
    "                          counter += 1\n",
    "                          if counter >= new_height:\n",
    "                              break\n",
    "\n",
    "                  modified_img = Image.fromarray(img_v_r, mode=img.mode)\n",
    "                  save_images(modified_img, file_name, save_directory, \"_v_r\")\n",
    "\n",
    "                  #Horizantal Resize:\n",
    "                  new_width = img_array3.shape[1] - int(img_array3.shape[1]/jumps_in_picture) - 1\n",
    "                  img_h_r = np.zeros((img_array3.shape[0], new_width, img_array3.shape[2]), dtype=img_array3.dtype)\n",
    "                  counter = 0\n",
    "                  for i in range(img_array3.shape[1]):\n",
    "                      if i % jumps_in_picture != 0:\n",
    "                          img_h_r[:, counter, :] = img_array3[:, i, :]\n",
    "                          counter += 1\n",
    "                          if counter >= new_width:\n",
    "                              break\n",
    "\n",
    "                  modified_img = Image.fromarray(img_h_r, mode=img.mode)\n",
    "                  save_images(modified_img, file_name, save_directory, \"_h_r\")\n",
    "\n",
    "                  #Horizantal and Vertical Resize:\n",
    "                  img_h_v_r = np.zeros((new_height, img_h_r.shape[1], img_h_r.shape[2]), dtype=img_array3.dtype)\n",
    "\n",
    "                  counter = 0\n",
    "                  for i in range(img_h_r.shape[0]):\n",
    "                      if i % jumps_in_picture != 0:\n",
    "                          img_h_v_r[counter, :, :] = img_h_r[i, :, :]\n",
    "                          counter += 1\n",
    "                          if counter >= new_height:\n",
    "                              break\n",
    "\n",
    "                  modified_img = Image.fromarray(img_h_v_r, mode=img.mode)\n",
    "                  save_images(modified_img, file_name, save_directory, \"_h_v_r\")\n",
    "\n",
    "                else:\n",
    "                  #Horizantal Lines:\n",
    "                  # for x in range(1, img_array1.shape[1], jumps_in_picture):\n",
    "\n",
    "                  #     #A Random color for each pixel:\n",
    "                  #     #img_array1[x, :, :] = np.random.randint(0, 256, img_array1[x, :, :].shape)\n",
    "\n",
    "                  #     #A Random color for each line:\n",
    "                  #     img_array1[x, :] = np.random.randint(0, 256)\n",
    "\n",
    "                  # modified_img = Image.fromarray(img_array1, mode=img.mode)\n",
    "                  # save_images(modified_img, file_name, save_directory, \"_h\")\n",
    "\n",
    "                  # #Horizantal and Vertical Lines:\n",
    "                  # # for x in range(1, img_array1.shape[1], jumps_in_picture):\n",
    "                  # #     img_array1[:, x] = np.random.randint(0, 256)\n",
    "\n",
    "                  # # modified_img = Image.fromarray(img_array1, mode=img.mode)\n",
    "                  # # save_images(modified_img, file_name, save_directory, \"_h_v\")\n",
    "\n",
    "                  # #Vertical Lines:\n",
    "                  # for x in range(1, img_array2.shape[1], jumps_in_picture):\n",
    "                  #     img_array2[:, x] = np.random.randint(0, 256)\n",
    "\n",
    "                  # modified_img = Image.fromarray(img_array2, mode=img.mode)\n",
    "                  # save_images(modified_img, file_name, save_directory, \"_v\")\n",
    "\n",
    "                  #Vertical Resize:\n",
    "                  new_height = img_array3.shape[0] - int(img_array3.shape[0]/jumps_in_picture) - 1\n",
    "                  img_v_r = np.zeros((new_height, img_array3.shape[1]), dtype=img_array3.dtype)\n",
    "                  counter = 0\n",
    "                  for i in range(img_array3.shape[0]):\n",
    "                      if i % jumps_in_picture != 0:\n",
    "                          img_v_r[counter, :] = img_array3[i, :]\n",
    "                          counter += 1\n",
    "                          if counter >= new_height:\n",
    "                              break\n",
    "\n",
    "                  modified_img = Image.fromarray(img_v_r, mode=img.mode)\n",
    "                  save_images(modified_img, file_name, save_directory, \"_v_r\")\n",
    "\n",
    "                  #Horizantal Resize:\n",
    "                  new_width = img_array3.shape[1] - int(img_array3.shape[1]/jumps_in_picture) - 1\n",
    "                  img_h_r = np.zeros((img_array3.shape[0], new_width), dtype=img_array3.dtype)\n",
    "                  counter = 0\n",
    "                  for i in range(img_array3.shape[1]):\n",
    "                      if i % jumps_in_picture != 0:\n",
    "                          img_h_r[:, counter] = img_array3[:, i]\n",
    "                          counter += 1\n",
    "                          if counter >= new_width:\n",
    "                              break\n",
    "\n",
    "                  modified_img = Image.fromarray(img_h_r, mode=img.mode)\n",
    "                  save_images(modified_img, file_name, save_directory, \"_h_r\")\n",
    "\n",
    "                  #Horizantal and Vertical Resize:\n",
    "                  img_h_v_r = np.zeros((new_height, img_h_r.shape[1]), dtype=img_array3.dtype)\n",
    "\n",
    "                  counter = 0\n",
    "                  for i in range(img_h_r.shape[0]):\n",
    "                      if i % jumps_in_picture != 0:\n",
    "                          img_h_v_r[counter, :] = img_h_r[i, :]\n",
    "                          counter += 1\n",
    "                          if counter >= new_height:\n",
    "                              break\n",
    "\n",
    "                  modified_img = Image.fromarray(img_h_v_r, mode=img.mode)\n",
    "                  save_images(modified_img, file_name, save_directory, \"_h_v_r\")\n"
   ]
  },
  {
   "cell_type": "code",
   "execution_count": null,
   "metadata": {
    "id": "LHURM6bQIsM_"
   },
   "outputs": [],
   "source": [
    "jumps_in_picture = 5\n",
    "resized_data_path = r'..\\data\\train_initial_resized\\NORMAL'\n",
    "augmented_data_path = r'..\\data\\train_aug_resized\\NORMAL'\n",
    "\n",
    "apply_changes_to_images(resized_data_path, augmented_data_path, jumps_in_picture)"
   ]
  },
  {
   "cell_type": "markdown",
   "metadata": {},
   "source": [
    "Merge:"
   ]
  },
  {
   "cell_type": "code",
   "execution_count": 15,
   "metadata": {
    "id": "0KCLP-S4rL9E"
   },
   "outputs": [
    {
     "name": "stdout",
     "output_type": "stream",
     "text": [
      "Image merging completed.\n"
     ]
    }
   ],
   "source": [
    "import os\n",
    "import shutil\n",
    "\n",
    "# Define the source directories\n",
    "source_dir1 = r'C:\\Users\\User\\Desktop\\amiryo\\datasets\\pneumonia\\data\\train_aug_line\\PNEUMONIA'\n",
    "source_dir2 = r'C:\\Users\\User\\Desktop\\amiryo\\datasets\\pneumonia\\data\\train\\PNEUMONIA'\n",
    "\n",
    "# Define the destination directory\n",
    "destination_dir = r'C:\\Users\\User\\Desktop\\amiryo\\datasets\\pneumonia\\data\\train_aug_and_original\\PNEUMONIA'\n",
    "\n",
    "# Create the destination directory if it doesn't exist\n",
    "os.makedirs(destination_dir, exist_ok=True)\n",
    "\n",
    "# Function to copy images from source to destination\n",
    "def copy_images(source, destination):\n",
    "    for filename in os.listdir(source):\n",
    "        source_file = os.path.join(source, filename)\n",
    "        destination_file = os.path.join(destination, filename)\n",
    "        if os.path.isfile(source_file):\n",
    "            shutil.copy2(source_file, destination_file)\n",
    "            #print(f'Copied {source_file} to {destination_file}')\n",
    "\n",
    "# Copy images from both source directories to the destination directory\n",
    "copy_images(source_dir1, destination_dir)\n",
    "copy_images(source_dir2, destination_dir)\n",
    "\n",
    "print('Image merging completed.')"
   ]
  }
 ],
 "metadata": {
  "accelerator": "GPU",
  "colab": {
   "gpuType": "T4",
   "provenance": []
  },
  "kernelspec": {
   "display_name": "Python 3 (ipykernel)",
   "language": "python",
   "name": "python3"
  },
  "language_info": {
   "codemirror_mode": {
    "name": "ipython",
    "version": 3
   },
   "file_extension": ".py",
   "mimetype": "text/x-python",
   "name": "python",
   "nbconvert_exporter": "python",
   "pygments_lexer": "ipython3",
   "version": "3.9.18"
  }
 },
 "nbformat": 4,
 "nbformat_minor": 4
}
