{
 "cells": [
  {
   "cell_type": "code",
   "execution_count": null,
   "id": "de8c6e1a-8861-42b4-94b6-d6ad21c52fcb",
   "metadata": {},
   "outputs": [],
   "source": [
    "# pip install --upgrade tensorflow"
   ]
  },
  {
   "cell_type": "code",
   "execution_count": null,
   "id": "c5ffc357-f6b2-4121-8267-4b2f5a2ff3b3",
   "metadata": {},
   "outputs": [],
   "source": [
    "# !pip install tensorflow==2.17 numpy==1.26.2"
   ]
  },
  {
   "cell_type": "code",
   "execution_count": null,
   "id": "a280032e-8128-4772-a1a5-f1c2009d2a0b",
   "metadata": {},
   "outputs": [
    {
     "name": "stdout",
     "output_type": "stream",
     "text": [
      "Found 15648 images belonging to 2 classes.\n",
      "Found 16 images belonging to 2 classes.\n",
      "Found 624 images belonging to 2 classes.\n"
     ]
    }
   ],
   "source": [
    "import os\n",
    "import numpy as np\n",
    "import tensorflow as tf\n",
    "from tensorflow.keras.preprocessing.image import ImageDataGenerator\n",
    "from tensorflow.keras.applications import ResNet50\n",
    "from tensorflow.keras.layers import Dense, GlobalAveragePooling2D\n",
    "from tensorflow.keras.models import Model\n",
    "from sklearn.metrics import confusion_matrix, classification_report\n",
    "\n",
    "base_dir = r'..\\data'\n",
    "train_dir = os.path.join(base_dir, 'train_aug')\n",
    "# train_dir = os.path.join(base_dir, 'train')\n",
    "valid_dir = os.path.join(base_dir, 'valid')\n",
    "test_dir = os.path.join(base_dir, 'test')\n",
    "\n",
    "train_datagen = ImageDataGenerator(rescale=1./255)\n",
    "valid_datagen = ImageDataGenerator(rescale=1./255)\n",
    "test_datagen = ImageDataGenerator(rescale=1./255)\n",
    "\n",
    "train_generator = train_datagen.flow_from_directory(\n",
    "    train_dir,\n",
    "    target_size=(224, 224),\n",
    "    batch_size=32,\n",
    "    class_mode='binary'\n",
    ")\n",
    "\n",
    "valid_generator = valid_datagen.flow_from_directory(\n",
    "    valid_dir,\n",
    "    target_size=(224, 224),\n",
    "    batch_size=32,\n",
    "    class_mode='binary'\n",
    ")\n",
    "\n",
    "test_generator = test_datagen.flow_from_directory(\n",
    "    test_dir,\n",
    "    target_size=(224, 224),\n",
    "    batch_size=32,\n",
    "    class_mode='binary',\n",
    "    shuffle=False\n",
    ")"
   ]
  },
  {
   "cell_type": "code",
   "execution_count": null,
   "id": "49f18b4d-fcb9-4a21-bc6f-98f9aedb900d",
   "metadata": {},
   "outputs": [],
   "source": [
    "# Load ResNet50 model\n",
    "base_model = ResNet50(weights='imagenet', include_top=False)\n",
    "\n",
    "x = base_model.output\n",
    "x = GlobalAveragePooling2D()(x)\n",
    "x = Dense(512, activation='relu')(x)\n",
    "predictions = Dense(1, activation='sigmoid')(x)\n",
    "\n",
    "model = Model(inputs=base_model.input, outputs=predictions)"
   ]
  },
  {
   "cell_type": "code",
   "execution_count": null,
   "id": "6b251504-cb77-432d-890f-2f798529338a",
   "metadata": {},
   "outputs": [],
   "source": [
    "model.compile(optimizer='adam', loss='binary_crossentropy', metrics=['accuracy'])"
   ]
  },
  {
   "cell_type": "code",
   "execution_count": 28,
   "id": "3335bd0b-e61e-4d40-b5d7-ad66c880703a",
   "metadata": {},
   "outputs": [],
   "source": [
    "# # Calculate class weights (optional)\n",
    "# from sklearn.utils import class_weight\n",
    "\n",
    "# class_weights = class_weight.compute_class_weight(\n",
    "#     'balanced',\n",
    "#     np.unique(train_generator.classes),\n",
    "#     train_generator.classes\n",
    "# )"
   ]
  },
  {
   "cell_type": "code",
   "execution_count": 29,
   "id": "c6c0bfae-f3d4-45c6-bd40-6e523018c8ed",
   "metadata": {},
   "outputs": [
    {
     "name": "stdout",
     "output_type": "stream",
     "text": [
      "Epoch 1/20\n",
      "489/489 [==============================] - 143s 280ms/step - loss: 0.1967 - accuracy: 0.9259 - val_loss: 1133.4823 - val_accuracy: 0.5000\n",
      "Epoch 2/20\n",
      "489/489 [==============================] - 103s 209ms/step - loss: 0.0807 - accuracy: 0.9685 - val_loss: 2.7385 - val_accuracy: 0.5000\n",
      "Epoch 3/20\n",
      "489/489 [==============================] - 103s 211ms/step - loss: 0.0539 - accuracy: 0.9808 - val_loss: 0.1647 - val_accuracy: 0.9375\n",
      "Epoch 4/20\n",
      "489/489 [==============================] - 123s 252ms/step - loss: 0.0445 - accuracy: 0.9843 - val_loss: 1.1446 - val_accuracy: 0.7500\n",
      "Epoch 5/20\n",
      "489/489 [==============================] - 108s 220ms/step - loss: 0.0434 - accuracy: 0.9844 - val_loss: 1.4839 - val_accuracy: 0.6250\n",
      "Epoch 6/20\n",
      "489/489 [==============================] - 103s 210ms/step - loss: 0.0286 - accuracy: 0.9905 - val_loss: 15.8576 - val_accuracy: 0.5000\n",
      "Epoch 7/20\n",
      "489/489 [==============================] - 102s 209ms/step - loss: 0.0259 - accuracy: 0.9905 - val_loss: 0.4167 - val_accuracy: 0.8750\n",
      "Epoch 8/20\n",
      "489/489 [==============================] - 103s 210ms/step - loss: 0.0273 - accuracy: 0.9909 - val_loss: 0.5092 - val_accuracy: 0.8125\n",
      "Epoch 9/20\n",
      "489/489 [==============================] - 103s 210ms/step - loss: 0.0195 - accuracy: 0.9928 - val_loss: 0.1135 - val_accuracy: 0.8750\n",
      "Epoch 10/20\n",
      "489/489 [==============================] - 102s 208ms/step - loss: 0.0177 - accuracy: 0.9936 - val_loss: 1.0176 - val_accuracy: 0.8125\n",
      "Epoch 11/20\n",
      "489/489 [==============================] - 103s 210ms/step - loss: 0.0147 - accuracy: 0.9948 - val_loss: 1.3465 - val_accuracy: 0.7500\n",
      "Epoch 12/20\n",
      "489/489 [==============================] - 103s 210ms/step - loss: 0.0140 - accuracy: 0.9953 - val_loss: 0.5305 - val_accuracy: 0.8125\n",
      "Epoch 13/20\n",
      "489/489 [==============================] - 105s 214ms/step - loss: 0.0173 - accuracy: 0.9937 - val_loss: 0.0221 - val_accuracy: 1.0000\n",
      "Epoch 14/20\n",
      "489/489 [==============================] - 103s 210ms/step - loss: 0.0106 - accuracy: 0.9961 - val_loss: 1.3734 - val_accuracy: 0.8125\n",
      "Epoch 15/20\n",
      "489/489 [==============================] - 103s 210ms/step - loss: 0.0149 - accuracy: 0.9946 - val_loss: 0.4351 - val_accuracy: 0.9375\n",
      "Epoch 16/20\n",
      "489/489 [==============================] - 103s 210ms/step - loss: 0.0093 - accuracy: 0.9967 - val_loss: 0.7398 - val_accuracy: 0.8125\n",
      "Epoch 17/20\n",
      "489/489 [==============================] - 103s 210ms/step - loss: 0.0101 - accuracy: 0.9964 - val_loss: 0.3934 - val_accuracy: 0.8750\n",
      "Epoch 18/20\n",
      "489/489 [==============================] - 103s 209ms/step - loss: 0.0109 - accuracy: 0.9959 - val_loss: 0.0366 - val_accuracy: 1.0000\n",
      "Epoch 19/20\n",
      "489/489 [==============================] - 103s 210ms/step - loss: 0.0088 - accuracy: 0.9967 - val_loss: 0.0038 - val_accuracy: 1.0000\n",
      "Epoch 20/20\n",
      "489/489 [==============================] - 102s 209ms/step - loss: 0.0106 - accuracy: 0.9962 - val_loss: 2.3895 - val_accuracy: 0.6875\n"
     ]
    },
    {
     "data": {
      "text/plain": [
       "<keras.callbacks.History at 0x1ae5cb99610>"
      ]
     },
     "execution_count": 29,
     "metadata": {},
     "output_type": "execute_result"
    }
   ],
   "source": [
    "from tensorflow.keras.callbacks import EarlyStopping, ModelCheckpoint\n",
    "\n",
    "early_stopping = EarlyStopping(monitor='val_loss', patience=10, restore_best_weights=True)\n",
    "model_checkpoint = ModelCheckpoint('best_model.keras', save_best_only=True, monitor='val_loss', mode='min')\n",
    "\n",
    "model.fit(\n",
    "    train_generator,\n",
    "    validation_data=valid_generator,\n",
    "    epochs=20,\n",
    "    callbacks=[early_stopping, model_checkpoint],\n",
    "    #class_weight=dict(enumerate(class_weights))  # if using class weights\n",
    ")\n"
   ]
  },
  {
   "cell_type": "code",
   "execution_count": null,
   "id": "932aaa79-2868-462d-9cc1-ab588089fad8",
   "metadata": {},
   "outputs": [
    {
     "name": "stdout",
     "output_type": "stream",
     "text": [
      "20/20 [==============================] - 6s 256ms/step - loss: 4.9059 - accuracy: 0.6683\n",
      "Test accuracy: 0.6682692170143127\n",
      "20/20 [==============================] - 7s 293ms/step\n",
      "Confusion Matrix:\n",
      "[[ 28 206]\n",
      " [  1 389]]\n",
      "Classification Report:\n",
      "              precision    recall  f1-score   support\n",
      "\n",
      "      NORMAL       0.97      0.12      0.21       234\n",
      "   PNEUMONIA       0.65      1.00      0.79       390\n",
      "\n",
      "    accuracy                           0.67       624\n",
      "   macro avg       0.81      0.56      0.50       624\n",
      "weighted avg       0.77      0.67      0.57       624\n",
      "\n"
     ]
    },
    {
     "data": {
      "image/png": "[encoded data removed]",
      "text/plain": [
       "<Figure size 800x600 with 2 Axes>"
      ]
     },
     "metadata": {},
     "output_type": "display_data"
    }
   ],
   "source": [
    "import matplotlib.pyplot as plt\n",
    "import seaborn as sns\n",
    "from sklearn.metrics import confusion_matrix, classification_report\n",
    "\n",
    "test_loss, test_acc = model.evaluate(test_generator)\n",
    "print(f'Test accuracy: {test_acc}')\n",
    "\n",
    "# Get predictions\n",
    "test_generator.reset()\n",
    "predictions = model.predict(test_generator)\n",
    "predicted_classes = (predictions > 0.5).astype(int).flatten()\n",
    "\n",
    "# True labels\n",
    "true_classes = test_generator.classes\n",
    "\n",
    "conf_matrix = confusion_matrix(true_classes, predicted_classes)\n",
    "print(\"Confusion Matrix:\")\n",
    "print(conf_matrix)\n",
    "\n",
    "class_report = classification_report(true_classes, predicted_classes, target_names=['NORMAL', 'PNEUMONIA'])\n",
    "print(\"Classification Report:\")\n",
    "print(class_report)\n",
    "\n",
    "plt.figure(figsize=(8, 6))\n",
    "sns.heatmap(conf_matrix, annot=True, fmt='d', cmap='Blues', xticklabels=['NORMAL', 'PNEUMONIA'], yticklabels=['NORMAL', 'PNEUMONIA'])\n",
    "plt.xlabel('Predicted Label')\n",
    "plt.ylabel('True Label')\n",
    "plt.title('Confusion Matrix')\n",
    "plt.show()"
   ]
  }
 ],
 "metadata": {
  "kernelspec": {
   "display_name": "Python 3 (ipykernel)",
   "language": "python",
   "name": "python3"
  },
  "language_info": {
   "codemirror_mode": {
    "name": "ipython",
    "version": 3
   },
   "file_extension": ".py",
   "mimetype": "text/x-python",
   "name": "python",
   "nbconvert_exporter": "python",
   "pygments_lexer": "ipython3",
   "version": "3.9.18"
  }
 },
 "nbformat": 4,
 "nbformat_minor": 5
}
