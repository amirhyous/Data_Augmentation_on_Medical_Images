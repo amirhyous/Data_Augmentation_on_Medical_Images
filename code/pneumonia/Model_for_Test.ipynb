{
 "cells": [
  {
   "cell_type": "markdown",
   "metadata": {},
   "source": [
    "# Testing Augmentation"
   ]
  },
  {
   "cell_type": "code",
   "execution_count": null,
   "metadata": {
    "id": "0lXkew2BvyB1"
   },
   "outputs": [],
   "source": [
    "import tensorflow as tf\n",
    "from tensorflow.keras.preprocessing.image import ImageDataGenerator\n",
    "from tensorflow.keras.models import Sequential\n",
    "from tensorflow.keras.layers import Conv2D, MaxPooling2D, Flatten, Dense, Dropout\n",
    "from tensorflow.keras.optimizers import Adam\n",
    "from tensorflow.keras.callbacks import EarlyStopping, ModelCheckpoint\n",
    "import random\n",
    "import numpy as np\n",
    "import os\n",
    "# os.environ[\"TF_GPU_ALLOCATOR\"]=\"cuda_malloc_async\"\n",
    "random_seed = 42\n",
    "np.random.seed(random_seed)\n",
    "random.seed(random_seed)\n",
    "tf.random.set_seed(random_seed)\n",
    "\n",
    "train_dir = r'..\\data\\train_aug_and_original'\n",
    "validation_dir = r'..\\data\\val'\n",
    "test_dir = r'..\\data\\test'"
   ]
  },
  {
   "cell_type": "markdown",
   "metadata": {},
   "source": [
    "### Dataset:"
   ]
  },
  {
   "cell_type": "code",
   "execution_count": null,
   "metadata": {
    "colab": {
     "base_uri": "https://localhost:8080/"
    },
    "id": "Z7_gYIBlvx_8",
    "outputId": "df498a0a-d6a4-4a8e-a237-d61271b62b03"
   },
   "outputs": [
    {
     "name": "stdout",
     "output_type": "stream",
     "text": [
      "Found 15648 images belonging to 2 classes.\n",
      "Found 16 images belonging to 2 classes.\n",
      "Found 624 images belonging to 2 classes.\n"
     ]
    }
   ],
   "source": [
    "train_datagen = ImageDataGenerator(rescale=1./255)\n",
    "val_test_datagen = ImageDataGenerator(rescale=1./255)\n",
    "\n",
    "train_generator = train_datagen.flow_from_directory(\n",
    "    train_dir,\n",
    "    target_size=(150, 150),\n",
    "    batch_size=32,\n",
    "    class_mode='binary',\n",
    "    seed=random_seed\n",
    ")\n",
    "\n",
    "validation_generator = val_test_datagen.flow_from_directory(\n",
    "    validation_dir,\n",
    "    target_size=(150, 150),\n",
    "    batch_size=32,\n",
    "    class_mode='binary',\n",
    "    seed=random_seed\n",
    ")\n",
    "\n",
    "test_generator = val_test_datagen.flow_from_directory(\n",
    "    test_dir,\n",
    "    target_size=(150, 150),\n",
    "    batch_size=32,\n",
    "    class_mode='binary',\n",
    "    shuffle=False,\n",
    "    seed=random_seed \n",
    ")\n"
   ]
  },
  {
   "cell_type": "markdown",
   "metadata": {},
   "source": [
    "## Model:"
   ]
  },
  {
   "cell_type": "code",
   "execution_count": 95,
   "metadata": {
    "id": "tdxRs0fUvx9n"
   },
   "outputs": [],
   "source": [
    "\n",
    "# Building the model\n",
    "model = Sequential([\n",
    "    Conv2D(32, (3, 3), activation='relu', input_shape=(150, 150, 3)),\n",
    "    MaxPooling2D((2, 2)),\n",
    "    Conv2D(64, (3, 3), activation='relu'),\n",
    "    MaxPooling2D((2, 2)),\n",
    "    Conv2D(128, (3, 3), activation='relu'),\n",
    "    MaxPooling2D((2, 2)),\n",
    "    Flatten(),\n",
    "    Dense(512, activation='relu'),\n",
    "    Dropout(0.5),\n",
    "    Dense(1, activation='sigmoid')\n",
    "])\n",
    "\n",
    "# Compile the model\n",
    "model.compile(optimizer=Adam(learning_rate=0.001),\n",
    "              loss='binary_crossentropy',\n",
    "              metrics=['accuracy'])\n"
   ]
  },
  {
   "cell_type": "code",
   "execution_count": 96,
   "metadata": {
    "colab": {
     "base_uri": "https://localhost:8080/",
     "height": 300
    },
    "id": "Q64ADmBUz6VJ",
    "outputId": "e78cd73f-c7f4-4a77-fa3b-2795d848175a"
   },
   "outputs": [],
   "source": [
    "# Callbacks\n",
    "# early_stopping = EarlyStopping(monitor='val_loss', patience=5, restore_best_weights=True)\n",
    "# model_checkpoint = ModelCheckpoint('best_model.h5', save_best_only=True, monitor='val_loss')"
   ]
  },
  {
   "cell_type": "code",
   "execution_count": 97,
   "metadata": {
    "id": "w2FpaTp7v9lo"
   },
   "outputs": [],
   "source": [
    "# Callbacks\n",
    "early_stopping = EarlyStopping(monitor='val_loss', patience=5, restore_best_weights=True)\n",
    "model_checkpoint = ModelCheckpoint('best_model.keras', save_best_only=True, monitor='val_loss')"
   ]
  },
  {
   "cell_type": "markdown",
   "metadata": {},
   "source": [
    "## Train:"
   ]
  },
  {
   "cell_type": "code",
   "execution_count": 98,
   "metadata": {
    "colab": {
     "base_uri": "https://localhost:8080/",
     "height": 407
    },
    "id": "4iKnNqmZv8_4",
    "outputId": "d89e183a-1835-4a51-e308-25258149e6d1"
   },
   "outputs": [
    {
     "name": "stdout",
     "output_type": "stream",
     "text": [
      "Epoch 1/20\n",
      "489/489 [==============================] - 34s 69ms/step - loss: 0.2176 - accuracy: 0.9139 - val_loss: 0.2819 - val_accuracy: 0.8125\n",
      "Epoch 2/20\n",
      "489/489 [==============================] - 34s 69ms/step - loss: 0.0913 - accuracy: 0.9656 - val_loss: 0.3162 - val_accuracy: 0.8125\n",
      "Epoch 3/20\n",
      "489/489 [==============================] - 34s 70ms/step - loss: 0.0664 - accuracy: 0.9751 - val_loss: 0.2533 - val_accuracy: 0.8750\n",
      "Epoch 4/20\n",
      "489/489 [==============================] - 34s 69ms/step - loss: 0.0448 - accuracy: 0.9833 - val_loss: 0.2086 - val_accuracy: 0.8750\n",
      "Epoch 5/20\n",
      "489/489 [==============================] - 34s 69ms/step - loss: 0.0356 - accuracy: 0.9866 - val_loss: 0.2836 - val_accuracy: 0.8750\n",
      "Epoch 6/20\n",
      "489/489 [==============================] - 34s 70ms/step - loss: 0.0274 - accuracy: 0.9895 - val_loss: 0.3002 - val_accuracy: 0.8750\n",
      "Epoch 7/20\n",
      "489/489 [==============================] - 34s 69ms/step - loss: 0.0235 - accuracy: 0.9912 - val_loss: 0.4353 - val_accuracy: 0.8750\n",
      "Epoch 8/20\n",
      "489/489 [==============================] - 34s 69ms/step - loss: 0.0179 - accuracy: 0.9934 - val_loss: 0.0350 - val_accuracy: 1.0000\n",
      "Epoch 9/20\n",
      "489/489 [==============================] - 34s 69ms/step - loss: 0.0137 - accuracy: 0.9951 - val_loss: 0.2207 - val_accuracy: 0.9375\n",
      "Epoch 10/20\n",
      "489/489 [==============================] - 34s 69ms/step - loss: 0.0143 - accuracy: 0.9945 - val_loss: 0.0524 - val_accuracy: 1.0000\n",
      "Epoch 11/20\n",
      "489/489 [==============================] - 34s 69ms/step - loss: 0.0108 - accuracy: 0.9958 - val_loss: 0.1197 - val_accuracy: 0.9375\n",
      "Epoch 12/20\n",
      "489/489 [==============================] - 34s 69ms/step - loss: 0.0125 - accuracy: 0.9953 - val_loss: 0.2496 - val_accuracy: 0.9375\n",
      "Epoch 13/20\n",
      "489/489 [==============================] - 34s 69ms/step - loss: 0.0109 - accuracy: 0.9960 - val_loss: 0.6620 - val_accuracy: 0.8125\n"
     ]
    }
   ],
   "source": [
    "from math import ceil\n",
    "# Train the model\n",
    "history = model.fit(\n",
    "    train_generator,\n",
    "    steps_per_epoch=ceil(train_generator.samples / train_generator.batch_size),\n",
    "    validation_data=validation_generator,\n",
    "    validation_steps=ceil(validation_generator.samples / validation_generator.batch_size),\n",
    "    epochs=20,\n",
    "    callbacks=[early_stopping, model_checkpoint]\n",
    ")"
   ]
  },
  {
   "cell_type": "code",
   "execution_count": null,
   "metadata": {
    "colab": {
     "base_uri": "https://localhost:8080/"
    },
    "id": "MkoRNanutUg9",
    "outputId": "0cd0199a-e7ab-4d15-9200-6075f7a13db1"
   },
   "outputs": [
    {
     "name": "stdout",
     "output_type": "stream",
     "text": [
      "19/19 [==============================] - 3s 127ms/step - loss: 2.9264 - accuracy: 0.7599\n",
      "Test Accuracy: 75.99%\n"
     ]
    }
   ],
   "source": [
    "\n",
    "loss, accuracy = model.evaluate(test_generator, steps=test_generator.samples // test_generator.batch_size)\n",
    "print(f'Test Accuracy: {accuracy * 100:.2f}%')"
   ]
  },
  {
   "cell_type": "code",
   "execution_count": 100,
   "metadata": {
    "id": "5_dTiJ7K9uTS"
   },
   "outputs": [],
   "source": [
    "from sklearn.metrics import confusion_matrix, classification_report, accuracy_score\n",
    "import seaborn as sns\n",
    "import matplotlib.pyplot as plt"
   ]
  },
  {
   "cell_type": "markdown",
   "metadata": {},
   "source": [
    "## Evaluation:"
   ]
  },
  {
   "cell_type": "code",
   "execution_count": null,
   "metadata": {
    "colab": {
     "base_uri": "https://localhost:8080/",
     "height": 761
    },
    "id": "kSBgrbbm918W",
    "outputId": "2c23bfc6-8008-4bf7-fb05-53690d85c14e"
   },
   "outputs": [
    {
     "data": {
      "image/png": "[encoded data removed]",
      "text/plain": [
       "<Figure size 800x600 with 2 Axes>"
      ]
     },
     "metadata": {},
     "output_type": "display_data"
    },
    {
     "name": "stdout",
     "output_type": "stream",
     "text": [
      "Classification Report\n",
      "              precision    recall  f1-score   support\n",
      "\n",
      "      NORMAL       0.98      0.38      0.55       234\n",
      "   PNEUMONIA       0.73      0.99      0.84       390\n",
      "\n",
      "    accuracy                           0.77       624\n",
      "   macro avg       0.85      0.69      0.70       624\n",
      "weighted avg       0.82      0.77      0.73       624\n",
      "\n",
      "Accuracy Score: 76.60%\n"
     ]
    }
   ],
   "source": [
    "# Predict the labels for test data\n",
    "y_pred = model.predict(test_generator, steps=ceil(test_generator.samples / test_generator.batch_size))\n",
    "y_pred = (y_pred > 0.5).astype(int).ravel()\n",
    "\n",
    "# Get the true labels\n",
    "y_true = test_generator.classes\n",
    "\n",
    "cm = confusion_matrix(y_true, y_pred)\n",
    "plt.figure(figsize=(8, 6))\n",
    "sns.heatmap(cm, annot=True, fmt='d', cmap='Blues', xticklabels=test_generator.class_indices.keys(), yticklabels=test_generator.class_indices.keys())\n",
    "plt.xlabel('Predicted Label')\n",
    "plt.ylabel('True Label')\n",
    "plt.title('Confusion Matrix')\n",
    "plt.show()\n",
    "\n",
    "report = classification_report(y_true, y_pred, target_names=test_generator.class_indices.keys())\n",
    "print('Classification Report')\n",
    "print(report)\n",
    "\n",
    "acc_score = accuracy_score(y_true, y_pred)\n",
    "print(f'Accuracy Score: {acc_score * 100:.2f}%')"
   ]
  }
 ],
 "metadata": {
  "accelerator": "GPU",
  "colab": {
   "gpuType": "T4",
   "provenance": []
  },
  "kernelspec": {
   "display_name": "Python 3 (ipykernel)",
   "language": "python",
   "name": "python3"
  },
  "language_info": {
   "codemirror_mode": {
    "name": "ipython",
    "version": 3
   },
   "file_extension": ".py",
   "mimetype": "text/x-python",
   "name": "python",
   "nbconvert_exporter": "python",
   "pygments_lexer": "ipython3",
   "version": "3.9.18"
  }
 },
 "nbformat": 4,
 "nbformat_minor": 4
}
